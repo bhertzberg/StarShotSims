{
  "nbformat": 4,
  "nbformat_minor": 0,
  "metadata": {
    "colab": {
      "provenance": [],
      "authorship_tag": "ABX9TyP7iAY70Zk4S+PVMqMKa2+N",
      "include_colab_link": true
    },
    "kernelspec": {
      "name": "python3",
      "display_name": "Python 3"
    },
    "language_info": {
      "name": "python"
    }
  },
  "cells": [
    {
      "cell_type": "markdown",
      "metadata": {
        "id": "view-in-github",
        "colab_type": "text"
      },
      "source": [
        "<a href=\"https://colab.research.google.com/github/bhertzberg/StarShotSims/blob/main/Radioactive_Decay_TimeSeries.ipynb\" target=\"_parent\"><img src=\"https://colab.research.google.com/assets/colab-badge.svg\" alt=\"Open In Colab\"/></a>"
      ]
    },
    {
      "cell_type": "code",
      "source": [
        "import random\n",
        "import numpy as np\n",
        "import matplotlib.pyplot as plt"
      ],
      "metadata": {
        "id": "8Qk1sMHgDtX-"
      },
      "execution_count": null,
      "outputs": []
    },
    {
      "cell_type": "code",
      "source": [
        "def microDC(lam, totalTime):      #lamdba emissions per second, totalTime in seconds\n",
        "  arrive = np.random.exponential(1/lam) #first arrival time of a DC, following a radioactive emmission rate of lambda counts per second\n",
        "  microSec = arrive * 1000000 - 1   #convert arrive time to milliseconds, subtract 1 to allow spot for DC\n",
        "  microSec = np.trunc(microSec) \n",
        "  dc = [['counts', 'DC Val']]\n",
        "  dc.append([microSec, 0])      # microSec is time in microseconds since last DC\n",
        "  dc.append([microSec+1, 1])    # 0 for no DC, 1 for DC\n",
        "  timePassed = arrive\n",
        "  while timePassed<totalTime:          #generate DC for 10 seconds\n",
        "    arrive = np.random.exponential(1/lam)   #generate time until next DC\n",
        "    microSec = arrive * 1000000 - 1\n",
        "    microSec = np.trunc(microSec)\n",
        "    timePassed += arrive\n",
        "    if timePassed < totalTime:\n",
        "      dc.append([microSec, 0])      #add new DC to the array\n",
        "      dc.append([microSec+1, 1])\n",
        "  return dc"
      ],
      "metadata": {
        "id": "QxIpq6UY89RP"
      },
      "execution_count": null,
      "outputs": []
    },
    {
      "cell_type": "code",
      "source": [
        "dc = microDC(2,10)"
      ],
      "metadata": {
        "id": "6q19SJYiR5XC"
      },
      "execution_count": null,
      "outputs": []
    },
    {
      "cell_type": "code",
      "source": [
        "dc"
      ],
      "metadata": {
        "id": "bhsJCRzsR68z",
        "colab": {
          "base_uri": "https://localhost:8080/"
        },
        "outputId": "4848c962-ecf1-4caf-a915-8940496b2c68"
      },
      "execution_count": null,
      "outputs": [
        {
          "output_type": "execute_result",
          "data": {
            "text/plain": [
              "[['counts', 'DC Val'],\n",
              " [491444.0, 0],\n",
              " [491445.0, 1],\n",
              " [891038.0, 0],\n",
              " [891039.0, 1],\n",
              " [252030.0, 0],\n",
              " [252031.0, 1],\n",
              " [37069.0, 0],\n",
              " [37070.0, 1],\n",
              " [139353.0, 0],\n",
              " [139354.0, 1],\n",
              " [447884.0, 0],\n",
              " [447885.0, 1],\n",
              " [132563.0, 0],\n",
              " [132564.0, 1],\n",
              " [387131.0, 0],\n",
              " [387132.0, 1],\n",
              " [255529.0, 0],\n",
              " [255530.0, 1],\n",
              " [102134.0, 0],\n",
              " [102135.0, 1],\n",
              " [106863.0, 0],\n",
              " [106864.0, 1],\n",
              " [37899.0, 0],\n",
              " [37900.0, 1],\n",
              " [539644.0, 0],\n",
              " [539645.0, 1],\n",
              " [91551.0, 0],\n",
              " [91552.0, 1],\n",
              " [437360.0, 0],\n",
              " [437361.0, 1],\n",
              " [2186394.0, 0],\n",
              " [2186395.0, 1],\n",
              " [207773.0, 0],\n",
              " [207774.0, 1],\n",
              " [127735.0, 0],\n",
              " [127736.0, 1],\n",
              " [199094.0, 0],\n",
              " [199095.0, 1],\n",
              " [44792.0, 0],\n",
              " [44793.0, 1],\n",
              " [995951.0, 0],\n",
              " [995952.0, 1],\n",
              " [1261426.0, 0],\n",
              " [1261427.0, 1]]"
            ]
          },
          "metadata": {},
          "execution_count": 6
        }
      ]
    },
    {
      "cell_type": "code",
      "source": [
        "def decodeDCList(dcList):\n",
        "  decodeDC = []\n",
        "  for i in range(1,len(dcList), 2):\n",
        "    for j in range(int(dcList[i][0])):  #read in the counts for the 0 DC val rows\n",
        "      decodeDC.append(0)                #add that number of 0s, followed by a single 1 (representing 1 DC)\n",
        "    decodeDC.append(1)\n",
        "  while len(decodeDC)<10000000:         #add 0s until 10 sec is reached\n",
        "    decodeDC.append(0)\n",
        "  return decodeDC"
      ],
      "metadata": {
        "id": "csaOn9JVR7so"
      },
      "execution_count": null,
      "outputs": []
    },
    {
      "cell_type": "code",
      "source": [
        "decodedDC = decodeDCList(dc)"
      ],
      "metadata": {
        "id": "NrzQYtuLUIQm"
      },
      "execution_count": null,
      "outputs": []
    },
    {
      "cell_type": "code",
      "source": [
        "x3=np.linspace(0, len(decodedDC)/1000000, len(decodedDC))   #divide length by million to convert to seconds\n",
        "plt.plot(x3, decodedDC)"
      ],
      "metadata": {
        "colab": {
          "base_uri": "https://localhost:8080/",
          "height": 282
        },
        "id": "L1c1HLxuUh2B",
        "outputId": "8c7f5ff0-455a-4f7e-fd64-eaed73839050"
      },
      "execution_count": null,
      "outputs": [
        {
          "output_type": "execute_result",
          "data": {
            "text/plain": [
              "[<matplotlib.lines.Line2D at 0x7f44d1bf3ed0>]"
            ]
          },
          "metadata": {},
          "execution_count": 9
        },
        {
          "output_type": "display_data",
          "data": {
            "text/plain": [
              "<Figure size 432x288 with 1 Axes>"
            ],
            "image/png": "[encoded data removed]"
          },
          "metadata": {
            "needs_background": "light"
          }
        }
      ]
    },
    {
      "cell_type": "code",
      "source": [],
      "metadata": {
        "id": "o3l79ymDUwpX"
      },
      "execution_count": null,
      "outputs": []
    }
  ]
}